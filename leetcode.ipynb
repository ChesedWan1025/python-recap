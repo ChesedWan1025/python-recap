{
 "cells": [
  {
   "cell_type": "markdown",
   "metadata": {},
   "source": [
    "# 1. Max Consecutive Ones\n",
    "* Given a binary array, find the maximum number of consecutive 1s in this array.  \n",
    "* The input array will only contain 0 and 1.  \n",
    "* The length of input array is a positive integer and will not exceed 10,000"
   ]
  },
  {
   "cell_type": "code",
   "execution_count": 4,
   "metadata": {},
   "outputs": [],
   "source": [
    "def find_max_consecutive_ones(nums: list[int]) -> int:\n",
    "    count = max_count = 0\n",
    "    for num in nums:\n",
    "        if num == 1:\n",
    "            # Increment the count of 1's by one.\n",
    "            count += 1\n",
    "        else:\n",
    "            # Find the maximum till now.\n",
    "            max_count = max(max_count, count)\n",
    "            # Reset count of 1.\n",
    "            count = 0\n",
    "    return max(max_count, count)"
   ]
  },
  {
   "cell_type": "code",
   "execution_count": 5,
   "metadata": {},
   "outputs": [
    {
     "data": {
      "text/plain": [
       "3"
      ]
     },
     "execution_count": 5,
     "metadata": {},
     "output_type": "execute_result"
    }
   ],
   "source": [
    "nums = [0, 0, 1, 1, 0, 1, 1, 1]\n",
    "find_max_consecutive_ones(nums)"
   ]
  },
  {
   "cell_type": "code",
   "execution_count": 9,
   "metadata": {},
   "outputs": [],
   "source": [
    "def find_max_consecutive_ones1(nums):\n",
    "    # the map() function executes a specified function for each \n",
    "    # item in an iterable. The item is sent to the function as a parameter\n",
    "    return max(map(len, ''.join(map(str, nums)).split('0')))"
   ]
  },
  {
   "cell_type": "code",
   "execution_count": 10,
   "metadata": {},
   "outputs": [
    {
     "data": {
      "text/plain": [
       "3"
      ]
     },
     "execution_count": 10,
     "metadata": {},
     "output_type": "execute_result"
    }
   ],
   "source": [
    "find_max_consecutive_ones1(nums)"
   ]
  },
  {
   "cell_type": "markdown",
   "metadata": {},
   "source": [
    "# 2. Find Numbers with Even Number of Digits\n",
    "* Given an array nums of integers, return how many of them contain an even number of digits.\n",
    "* 1 <= nums.length <= 500\n",
    "* 1 <= nums[i] <= 10^5"
   ]
  },
  {
   "cell_type": "code",
   "execution_count": 19,
   "metadata": {},
   "outputs": [],
   "source": [
    "def find_numbers(nums: list[int]) -> int:\n",
    "    return [len(str(i))%2 == 0 for i in nums].count(True)"
   ]
  },
  {
   "cell_type": "code",
   "execution_count": 20,
   "metadata": {},
   "outputs": [
    {
     "data": {
      "text/plain": [
       "2"
      ]
     },
     "execution_count": 20,
     "metadata": {},
     "output_type": "execute_result"
    }
   ],
   "source": [
    "nums = [1, 23, 3233]\n",
    "find_numbers(nums)"
   ]
  },
  {
   "cell_type": "code",
   "execution_count": null,
   "metadata": {},
   "outputs": [],
   "source": []
  }
 ],
 "metadata": {
  "kernelspec": {
   "display_name": "Python 3",
   "language": "python",
   "name": "python3"
  },
  "language_info": {
   "codemirror_mode": {
    "name": "ipython",
    "version": 3
   },
   "file_extension": ".py",
   "mimetype": "text/x-python",
   "name": "python",
   "nbconvert_exporter": "python",
   "pygments_lexer": "ipython3",
   "version": "3.9.0"
  }
 },
 "nbformat": 4,
 "nbformat_minor": 4
}
